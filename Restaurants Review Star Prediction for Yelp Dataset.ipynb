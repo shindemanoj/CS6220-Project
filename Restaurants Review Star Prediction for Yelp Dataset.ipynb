{
 "cells": [
  {
   "cell_type": "markdown",
   "metadata": {},
   "source": [
    "# Summary\n",
    "\n",
    "This is a replication and extension of work done by [Yu et. al. 2015](https://cseweb.ucsd.edu/~jmcauley/cse255/reports/fa15/017.pdf) for \n",
    "\"Restaurants Review Star Prediction for Yelp Dataset\". They use the following models:\n",
    "\n",
    "1. Baseline\n",
    "1. Linear Regression\n",
    "1. Random Forest Regression\n",
    "1. Latent Factor Model\n",
    "\n",
    "Each of these models is compared for accuracy. They are trying to predict\n",
    "'the rating of new reviews'. \n",
    "\n",
    "## References:\n",
    "\n",
    "* [Yu et. al. 2015](https://cseweb.ucsd.edu/~jmcauley/cse255/reports/fa15/017.pdf)\n"
   ]
  },
  {
   "cell_type": "markdown",
   "metadata": {},
   "source": [
    "# Dependencies"
   ]
  },
  {
   "cell_type": "code",
   "execution_count": 4,
   "metadata": {},
   "outputs": [],
   "source": [
    "import os\n",
    "import pickle\n",
    "\n",
    "import matplotlib.pyplot as plt\n",
    "import numpy as np\n",
    "import pandas as pd\n",
    "from sklearn.linear_model import LinearRegression\n",
    "from sklearn.metrics import mean_squared_error\n",
    "from sklearn.model_selection import train_test_split\n",
    "from textblob import TextBlob\n",
    "\n",
    "%matplotlib inline"
   ]
  },
  {
   "cell_type": "markdown",
   "metadata": {},
   "source": [
    "# Data"
   ]
  },
  {
   "cell_type": "markdown",
   "metadata": {},
   "source": [
    "Review data is the most interested dataset part and included\n",
    "more information. Therefore, we are planning to\n",
    "predict the star of a review will give. The restaurant review\n",
    "dataset contains 990627 reviews (63% of total reviews),\n",
    "which amounts to around 1GB of data. (*Section 2.4*)"
   ]
  },
  {
   "cell_type": "code",
   "execution_count": 2,
   "metadata": {},
   "outputs": [],
   "source": [
    "reviews = pd.read_csv(\"data/yelp_review.csv\")"
   ]
  },
  {
   "cell_type": "markdown",
   "metadata": {},
   "source": [
    "Our dataset contains about 5$\\times$ more reviews than the replication paper."
   ]
  },
  {
   "cell_type": "code",
   "execution_count": 3,
   "metadata": {},
   "outputs": [
    {
     "data": {
      "text/plain": [
       "(5261668, 9)"
      ]
     },
     "execution_count": 3,
     "metadata": {},
     "output_type": "execute_result"
    }
   ],
   "source": [
    "reviews.shape"
   ]
  },
  {
   "cell_type": "code",
   "execution_count": 4,
   "metadata": {},
   "outputs": [
    {
     "data": {
      "text/html": [
       "<div>\n",
       "<style scoped>\n",
       "    .dataframe tbody tr th:only-of-type {\n",
       "        vertical-align: middle;\n",
       "    }\n",
       "\n",
       "    .dataframe tbody tr th {\n",
       "        vertical-align: top;\n",
       "    }\n",
       "\n",
       "    .dataframe thead th {\n",
       "        text-align: right;\n",
       "    }\n",
       "</style>\n",
       "<table border=\"1\" class=\"dataframe\">\n",
       "  <thead>\n",
       "    <tr style=\"text-align: right;\">\n",
       "      <th></th>\n",
       "      <th>review_id</th>\n",
       "      <th>user_id</th>\n",
       "      <th>business_id</th>\n",
       "      <th>stars</th>\n",
       "      <th>date</th>\n",
       "      <th>text</th>\n",
       "      <th>useful</th>\n",
       "      <th>funny</th>\n",
       "      <th>cool</th>\n",
       "    </tr>\n",
       "  </thead>\n",
       "  <tbody>\n",
       "    <tr>\n",
       "      <th>count</th>\n",
       "      <td>5261668</td>\n",
       "      <td>5261668</td>\n",
       "      <td>5261668</td>\n",
       "      <td>5261668</td>\n",
       "      <td>5261668</td>\n",
       "      <td>5261668</td>\n",
       "      <td>5261668</td>\n",
       "      <td>5261668</td>\n",
       "      <td>5261668</td>\n",
       "    </tr>\n",
       "    <tr>\n",
       "      <th>unique</th>\n",
       "      <td>1</td>\n",
       "      <td>1</td>\n",
       "      <td>1</td>\n",
       "      <td>1</td>\n",
       "      <td>1</td>\n",
       "      <td>1</td>\n",
       "      <td>1</td>\n",
       "      <td>1</td>\n",
       "      <td>1</td>\n",
       "    </tr>\n",
       "    <tr>\n",
       "      <th>top</th>\n",
       "      <td>False</td>\n",
       "      <td>False</td>\n",
       "      <td>False</td>\n",
       "      <td>False</td>\n",
       "      <td>False</td>\n",
       "      <td>False</td>\n",
       "      <td>False</td>\n",
       "      <td>False</td>\n",
       "      <td>False</td>\n",
       "    </tr>\n",
       "    <tr>\n",
       "      <th>freq</th>\n",
       "      <td>5261668</td>\n",
       "      <td>5261668</td>\n",
       "      <td>5261668</td>\n",
       "      <td>5261668</td>\n",
       "      <td>5261668</td>\n",
       "      <td>5261668</td>\n",
       "      <td>5261668</td>\n",
       "      <td>5261668</td>\n",
       "      <td>5261668</td>\n",
       "    </tr>\n",
       "  </tbody>\n",
       "</table>\n",
       "</div>"
      ],
      "text/plain": [
       "       review_id  user_id business_id    stars     date     text   useful  \\\n",
       "count    5261668  5261668     5261668  5261668  5261668  5261668  5261668   \n",
       "unique         1        1           1        1        1        1        1   \n",
       "top        False    False       False    False    False    False    False   \n",
       "freq     5261668  5261668     5261668  5261668  5261668  5261668  5261668   \n",
       "\n",
       "          funny     cool  \n",
       "count   5261668  5261668  \n",
       "unique        1        1  \n",
       "top       False    False  \n",
       "freq    5261668  5261668  "
      ]
     },
     "execution_count": 4,
     "metadata": {},
     "output_type": "execute_result"
    }
   ],
   "source": [
    "reviews.isna().describe()"
   ]
  },
  {
   "cell_type": "markdown",
   "metadata": {},
   "source": [
    "## Training and Test sets"
   ]
  },
  {
   "cell_type": "code",
   "execution_count": 5,
   "metadata": {},
   "outputs": [],
   "source": [
    "X = reviews[['review_id', 'user_id', 'business_id', 'date', 'text', 'useful', 'funny', 'cool']]\n",
    "y = reviews[['stars']]"
   ]
  },
  {
   "cell_type": "code",
   "execution_count": 6,
   "metadata": {},
   "outputs": [],
   "source": [
    "# Split the data into a training set using balanced classes\n",
    "    \n",
    "X_train, X_test, y_train, y_test = train_test_split(\n",
    "    X, y, test_size=0.4, random_state=0)"
   ]
  },
  {
   "cell_type": "markdown",
   "metadata": {},
   "source": [
    "**Caveat:** Paper assumes that all reviewers in training\n",
    "set also exist in the test set. Reducing training\n",
    "and test set to meet this specification."
   ]
  },
  {
   "cell_type": "code",
   "execution_count": 7,
   "metadata": {},
   "outputs": [
    {
     "name": "stdout",
     "output_type": "stream",
     "text": [
      "Number of users in training set: 1002207\n",
      "Number of users in test set: 787769\n",
      "Number of users in the training and test set: 463875\n"
     ]
    }
   ],
   "source": [
    "\n",
    "X_train_users = set(X_train['user_id'].values.tolist())\n",
    "print(\"Number of users in training set: {}\".format(len(X_train_users)))\n",
    "\n",
    "X_test_users = set(X_test['user_id'].values.tolist())\n",
    "print(\"Number of users in test set: {}\".format(len(X_test_users)))\n",
    "\n",
    "X_users = X_train_users & X_test_users\n",
    "print(\"Number of users in the training and test set: {}\".format(len(X_users)))"
   ]
  },
  {
   "cell_type": "code",
   "execution_count": 8,
   "metadata": {},
   "outputs": [],
   "source": [
    "X_train_filter = X_train.user_id.apply(lambda x: True if x in X_users else False)\n",
    "X_test_filter = X_test.user_id.apply(lambda x: True if x in X_users else False)"
   ]
  },
  {
   "cell_type": "code",
   "execution_count": 9,
   "metadata": {},
   "outputs": [
    {
     "data": {
      "text/plain": [
       "(2435662, 8)"
      ]
     },
     "execution_count": 9,
     "metadata": {},
     "output_type": "execute_result"
    }
   ],
   "source": [
    "X_train_spec = X_train[X_train_filter]\n",
    "y_train_spec = y_train[X_train_filter]\n",
    "\n",
    "X_train_spec.shape"
   ]
  },
  {
   "cell_type": "code",
   "execution_count": 10,
   "metadata": {},
   "outputs": [
    {
     "data": {
      "text/plain": [
       "(1723512, 8)"
      ]
     },
     "execution_count": 10,
     "metadata": {},
     "output_type": "execute_result"
    }
   ],
   "source": [
    "X_test_spec = X_test[X_test_filter]\n",
    "y_test_spec = y_test[X_test_filter]\n",
    "\n",
    "X_test_spec.shape"
   ]
  },
  {
   "cell_type": "markdown",
   "metadata": {},
   "source": [
    "# Descriptive Statistics"
   ]
  },
  {
   "cell_type": "code",
   "execution_count": 11,
   "metadata": {},
   "outputs": [
    {
     "data": {
      "text/plain": [
       "array([[<matplotlib.axes._subplots.AxesSubplot object at 0x1a884a2080>]],\n",
       "      dtype=object)"
      ]
     },
     "execution_count": 11,
     "metadata": {},
     "output_type": "execute_result"
    },
    {
     "data": {
      "image/png": "[encoded data removed]",
      "text/plain": [
       "<Figure size 432x288 with 1 Axes>"
      ]
     },
     "metadata": {},
     "output_type": "display_data"
    }
   ],
   "source": [
    "y_train_spec.hist()"
   ]
  },
  {
   "cell_type": "markdown",
   "metadata": {},
   "source": [
    "Reviews are skewed towards 4 and 5 stars like Yu et. al. but\n",
    "there are more one star ratings in our `reviews` dataset."
   ]
  },
  {
   "cell_type": "code",
   "execution_count": 12,
   "metadata": {},
   "outputs": [
    {
     "data": {
      "text/plain": [
       "5    975202\n",
       "4    638366\n",
       "3    327123\n",
       "1    284140\n",
       "2    210831\n",
       "Name: stars, dtype: int64"
      ]
     },
     "execution_count": 12,
     "metadata": {},
     "output_type": "execute_result"
    }
   ],
   "source": [
    "y_train_spec['stars'].value_counts()"
   ]
  },
  {
   "cell_type": "code",
   "execution_count": 13,
   "metadata": {},
   "outputs": [
    {
     "data": {
      "text/plain": [
       "array([[<matplotlib.axes._subplots.AxesSubplot object at 0x1a0c0177b8>]],\n",
       "      dtype=object)"
      ]
     },
     "execution_count": 13,
     "metadata": {},
     "output_type": "execute_result"
    },
    {
     "data": {
      "image/png": "[encoded data removed]",
      "text/plain": [
       "<Figure size 432x288 with 1 Axes>"
      ]
     },
     "metadata": {},
     "output_type": "display_data"
    }
   ],
   "source": [
    "y_test_spec.hist()"
   ]
  },
  {
   "cell_type": "code",
   "execution_count": 14,
   "metadata": {},
   "outputs": [
    {
     "data": {
      "text/plain": [
       "5    701934\n",
       "4    442020\n",
       "3    225816\n",
       "1    205634\n",
       "2    148108\n",
       "Name: stars, dtype: int64"
      ]
     },
     "execution_count": 14,
     "metadata": {},
     "output_type": "execute_result"
    }
   ],
   "source": [
    "y_test_spec['stars'].value_counts()"
   ]
  },
  {
   "cell_type": "markdown",
   "metadata": {},
   "source": [
    "# Replication of Models\n",
    "\n",
    "Replicating model from Yu et. al. "
   ]
  },
  {
   "cell_type": "markdown",
   "metadata": {},
   "source": [
    "## Evaluation Metric\n",
    "\n",
    "In the traditional rating prediction problem, we try to\n",
    "make our prediction $\\hat{R}_{u,i}$ for user $u$ and\n",
    "item $i$ to be as close as $R_{u,i}$, the rating user \n",
    "gives. Usually, Mean Squared Error (MSE) is employed to \n",
    "compare the performance of the different models.\n",
    "\n",
    "$MSE = \\frac{1}{|T|}\\sum{(R_{u,i} - \\hat{R}_{u,i})^2}$\n",
    "\n",
    "(*Section 3*)"
   ]
  },
  {
   "cell_type": "markdown",
   "metadata": {},
   "source": [
    "## Features\n",
    "\n",
    "The features are: the average\n",
    "rating stars for each user based on the review stars of the\n",
    "training dataset (uRate); the average rating stars for each\n",
    "business based on the review stars of the training dataset\n",
    "(bRate); the count of reviews this user had made (rCount);\n",
    "the lengh of the review text (tlen); the polarity of the sentiment\n",
    "of the review text (tpol); the subjectivity of the sentiment\n",
    "of the review text (tsub); the average rating stars for\n",
    "each user which can be get from dataset directly (uAvg);\n",
    "the average rating stars for each business which can be get\n",
    "from dataset directly (bAvg). (*Section 4*)"
   ]
  },
  {
   "cell_type": "code",
   "execution_count": 15,
   "metadata": {},
   "outputs": [
    {
     "data": {
      "text/plain": [
       "(2435662, 9)"
      ]
     },
     "execution_count": 15,
     "metadata": {},
     "output_type": "execute_result"
    }
   ],
   "source": [
    "# uRate (train)\n",
    "\n",
    "ok = reviews[['stars', 'review_id']]\n",
    "ok2 = pd.merge(ok, X_train_spec, how='inner')\n",
    "feature1 = ok2[['user_id','stars']].groupby('user_id').mean()\n",
    "\n",
    "feature1.columns = ['uRate']\n",
    "\n",
    "X_train_spec = pd.merge(X_train_spec, feature1, how='outer', on='user_id')\n",
    "X_train_spec.shape"
   ]
  },
  {
   "cell_type": "code",
   "execution_count": null,
   "metadata": {},
   "outputs": [],
   "source": [
    "# uRate (test)\n",
    "\n",
    "ok3 = pd.merge(ok, X_test_spec, how='inner')\n",
    "feature1t = ok3[['user_id', 'stars']].groupby('user_id').mean()\n",
    "\n",
    "feature1t.columns = ['uRate']\n",
    "\n",
    "X_test_spec = pd.merge(X_test_spec, feature1t, how='outer', on='user_id')\n",
    "X_test_spec.shape"
   ]
  },
  {
   "cell_type": "code",
   "execution_count": 16,
   "metadata": {},
   "outputs": [
    {
     "data": {
      "text/plain": [
       "(2435662, 10)"
      ]
     },
     "execution_count": 16,
     "metadata": {},
     "output_type": "execute_result"
    }
   ],
   "source": [
    "# bRate (train)\n",
    "\n",
    "feature2 = ok2[['business_id', 'stars']].groupby('business_id').mean()\n",
    "feature2.columns = ['bRate']\n",
    "\n",
    "X_train_spec = pd.merge(X_train_spec, feature2, how='outer', on='business_id')\n",
    "X_train_spec.shape"
   ]
  },
  {
   "cell_type": "code",
   "execution_count": null,
   "metadata": {},
   "outputs": [],
   "source": [
    "# bRate (test)\n",
    "\n",
    "feature2t = ok3[['business_id', 'stars']].groupby('business_id').mean()\n",
    "feature2t.columns = ['bRate']\n",
    "\n",
    "X_test_spec = pd.merge(X_test_spec, feature2t, how='outer', on='business_id')\n",
    "X_test_spec.shape"
   ]
  },
  {
   "cell_type": "code",
   "execution_count": 17,
   "metadata": {},
   "outputs": [],
   "source": [
    "# rCount (train)\n",
    "\n",
    "feature3 = X_train_spec.user_id.value_counts()\n",
    "feature3 = pd.DataFrame(feature3)\n",
    "\n",
    "feature3.columns = ['rCount']\n",
    "feature3['user_id'] = feature3.index\n",
    "\n",
    "X_train_spec = pd.merge(X_train_spec, feature3, how='outer', on='user_id')"
   ]
  },
  {
   "cell_type": "code",
   "execution_count": null,
   "metadata": {},
   "outputs": [],
   "source": [
    "# rCount (test)\n",
    "\n",
    "feature3t = X_test_spec.user_id.value_counts()\n",
    "feature3t = pd.DataFrame(feature3t)\n",
    "\n",
    "feature3t.columns = ['rCount']\n",
    "feature3t['user_id'] = feature3t.index\n",
    "\n",
    "X_test_spec = pd.merge(X_test_spec, feature3t, how='outer', on='user_id')"
   ]
  },
  {
   "cell_type": "code",
   "execution_count": 18,
   "metadata": {},
   "outputs": [],
   "source": [
    "# tlen (train)\n",
    "\n",
    "X_train_spec['tlen'] = X_train_spec.text.apply(lambda x: len(x))"
   ]
  },
  {
   "cell_type": "code",
   "execution_count": null,
   "metadata": {},
   "outputs": [],
   "source": [
    "# tlen (test)\n",
    "\n",
    "X_test_spec['tlen'] = X_test_spec.text.apply(lambda x: len(x))"
   ]
  },
  {
   "cell_type": "markdown",
   "metadata": {},
   "source": [
    "The python library TextBlob is used in this project. It’s\n",
    "a library help processing textual data and provides the API\n",
    "for natural language processing. For the sentiment analysis\n",
    "tasks, TextBlob returns a named tuple with float variables\n",
    "polarity and subjectivity.\n",
    "\n",
    "The polarity score is a float number in range of [-1.0, 1.0].\n",
    "The more positive the value is, the more positive the input\n",
    "text is. Vice versa the more negative input text leads to the\n",
    "more negative value of polarity score.\n",
    "\n",
    "For example, the negative text may include the words like:\n",
    "’hate’, ’disappointed’, ’dislike’, ’annoyed’, ’awful’, etc. The\n",
    "positive text may include the words like: ’excellent’, ’great’,\n",
    "’best’, etc.\n",
    "\n",
    "The subjectivity score is also a float number but in range\n",
    "of [0.0, 1.0]. The 0.0 indicates the most objective score and\n",
    "1.0 indicates the most subjective score.\n",
    "For example, the subjective text may have a high frequency\n",
    "of the word like: ’I’, ’we’, ’our’, etc. The objective\n",
    "text may have a really low frequency of those words.\n",
    "\n",
    "(*Section 6.2*)"
   ]
  },
  {
   "cell_type": "code",
   "execution_count": 50,
   "metadata": {},
   "outputs": [],
   "source": [
    "# Compute sentiment at once because it takes awhile (train)\n",
    "\n",
    "def get_sentiment(x: str):\n",
    "    \"\"\" Compute polarity using text blob. \"\"\"\n",
    "    blob = TextBlob(x)\n",
    "    polarity = blob.sentiment.polarity\n",
    "    subjectivity = blob.sentiment.subjectivity\n",
    "    return (polarity, subjectivity)\n",
    "\n",
    "X_train_spec['sentiment'] = X_train_spec.text.apply(lambda x: get_sentiment(x))"
   ]
  },
  {
   "cell_type": "code",
   "execution_count": null,
   "metadata": {},
   "outputs": [],
   "source": [
    "# Compute sentiment at once because it takes awhile (test)\n",
    "\n",
    "X_test_spec['sentiment'] = X_test_spec.text.apply(lambda x: get_sentiment(x))"
   ]
  },
  {
   "cell_type": "code",
   "execution_count": 57,
   "metadata": {},
   "outputs": [],
   "source": [
    "# tpol (train)\n",
    "\n",
    "X_train_spec['tpol'] = X_train_spec.sentiment.apply(lambda x: x[0])"
   ]
  },
  {
   "cell_type": "code",
   "execution_count": null,
   "metadata": {},
   "outputs": [],
   "source": [
    "# tpol (test)\n",
    "\n",
    "X_test_spec['tpol'] = X_test_spec.sentiment.apply(lambda x: x[0])"
   ]
  },
  {
   "cell_type": "code",
   "execution_count": 58,
   "metadata": {},
   "outputs": [],
   "source": [
    "# tsub (train)\n",
    "\n",
    "X_train_spec['tsub'] = X_train_spec.sentiment.apply(lambda x: x[1])"
   ]
  },
  {
   "cell_type": "code",
   "execution_count": null,
   "metadata": {},
   "outputs": [],
   "source": [
    "# tsub (test)\n",
    "\n",
    "X_test_spec['tsub'] = X_test_spec.sentiment.apply(lambda x: x[1])"
   ]
  },
  {
   "cell_type": "code",
   "execution_count": 114,
   "metadata": {},
   "outputs": [],
   "source": [
    "# uAvg (train)\n",
    "\n",
    "feature6 = reviews[['user_id','stars']].groupby('user_id').mean()\n",
    "feature6.columns = ['uAvg']\n",
    "\n",
    "X_train_spec = pd.merge(X_train_spec, feature6, how='left', on='user_id')"
   ]
  },
  {
   "cell_type": "code",
   "execution_count": null,
   "metadata": {},
   "outputs": [],
   "source": [
    "# uAvg (test)\n",
    "\n",
    "X_test_spec = pd.merge(X_test_spec, feature6, how='left', on='user_id')"
   ]
  },
  {
   "cell_type": "code",
   "execution_count": 115,
   "metadata": {},
   "outputs": [],
   "source": [
    "# bAvg (train)\n",
    "\n",
    "feature7 = reviews[['business_id', 'stars']].groupby('business_id').mean()\n",
    "feature7.columns = ['bAvg']\n",
    "\n",
    "X_train_spec = pd.merge(X_train_spec, feature7, how='left', on='business_id')"
   ]
  },
  {
   "cell_type": "code",
   "execution_count": null,
   "metadata": {},
   "outputs": [],
   "source": [
    "# bAvg (test)\n",
    "\n",
    "X_test_spec = pd.merge(X_test_spec, feature7, how='left', on='business_id')"
   ]
  },
  {
   "cell_type": "code",
   "execution_count": 117,
   "metadata": {},
   "outputs": [
    {
     "data": {
      "text/plain": [
       "Index(['review_id', 'user_id', 'business_id', 'date', 'text', 'useful',\n",
       "       'funny', 'cool', 'uRate', 'bRate', 'rCount', 'tlen', 'sentiment',\n",
       "       'tpol', 'tsub', 'uAvg', 'bAvg'],\n",
       "      dtype='object')"
      ]
     },
     "execution_count": 117,
     "metadata": {},
     "output_type": "execute_result"
    }
   ],
   "source": [
    "X_train_spec.columns"
   ]
  },
  {
   "cell_type": "code",
   "execution_count": null,
   "metadata": {},
   "outputs": [],
   "source": [
    "X_test_spec.columns"
   ]
  },
  {
   "cell_type": "code",
   "execution_count": null,
   "metadata": {},
   "outputs": [],
   "source": [
    "# Cache features\n",
    "\n",
    "X_test_spec.to_csv(\"X_test_spec.csv\")\n",
    "y_test_spec.to_csv(\"y_test_spec.csv\")\n",
    "X_train_spec.to_csv(\"X_train_spec.csv\")\n",
    "y_train_spec.to_csv(\"y_train_spec.csv\")"
   ]
  },
  {
   "cell_type": "markdown",
   "metadata": {},
   "source": [
    "## 1. Baseline\n",
    "\n",
    "The baseline model is straightforward, using user’s previous\n",
    "average given star to predict their future reviews’ star.\n",
    "That is, based on the training data, a average star for each\n",
    "user is computed by computing the average of all their previous\n",
    "review stars. Then, we used these averages to predict\n",
    "test dataset. When a user in test dataset has not been seen\n",
    "before, we will use the global average star instead of it. (*Section 4.1*)"
   ]
  },
  {
   "cell_type": "code",
   "execution_count": 23,
   "metadata": {},
   "outputs": [],
   "source": [
    "# Compute baseline average stars feature\n",
    "\n",
    "ok = reviews[['stars', 'review_id']]\n",
    "ok2 = pd.merge(ok, X_train_spec, how='outer')"
   ]
  },
  {
   "cell_type": "code",
   "execution_count": 24,
   "metadata": {},
   "outputs": [
    {
     "data": {
      "text/html": [
       "<div>\n",
       "<style scoped>\n",
       "    .dataframe tbody tr th:only-of-type {\n",
       "        vertical-align: middle;\n",
       "    }\n",
       "\n",
       "    .dataframe tbody tr th {\n",
       "        vertical-align: top;\n",
       "    }\n",
       "\n",
       "    .dataframe thead th {\n",
       "        text-align: right;\n",
       "    }\n",
       "</style>\n",
       "<table border=\"1\" class=\"dataframe\">\n",
       "  <thead>\n",
       "    <tr style=\"text-align: right;\">\n",
       "      <th></th>\n",
       "      <th>stars</th>\n",
       "    </tr>\n",
       "    <tr>\n",
       "      <th>user_id</th>\n",
       "      <th></th>\n",
       "    </tr>\n",
       "  </thead>\n",
       "  <tbody>\n",
       "    <tr>\n",
       "      <th>---1lKK3aKOuomHnwAkAow</th>\n",
       "      <td>4.164384</td>\n",
       "    </tr>\n",
       "    <tr>\n",
       "      <th>---udAKDsn0yQXmzbWQNSw</th>\n",
       "      <td>5.000000</td>\n",
       "    </tr>\n",
       "    <tr>\n",
       "      <th>--0kuuLmuYBe3Rmu0Iycww</th>\n",
       "      <td>3.000000</td>\n",
       "    </tr>\n",
       "    <tr>\n",
       "      <th>--104qdWvE99vaoIsj9ZJQ</th>\n",
       "      <td>3.000000</td>\n",
       "    </tr>\n",
       "    <tr>\n",
       "      <th>--1av6NdbEbMiuBr7Aup9A</th>\n",
       "      <td>3.666667</td>\n",
       "    </tr>\n",
       "  </tbody>\n",
       "</table>\n",
       "</div>"
      ],
      "text/plain": [
       "                           stars\n",
       "user_id                         \n",
       "---1lKK3aKOuomHnwAkAow  4.164384\n",
       "---udAKDsn0yQXmzbWQNSw  5.000000\n",
       "--0kuuLmuYBe3Rmu0Iycww  3.000000\n",
       "--104qdWvE99vaoIsj9ZJQ  3.000000\n",
       "--1av6NdbEbMiuBr7Aup9A  3.666667"
      ]
     },
     "execution_count": 24,
     "metadata": {},
     "output_type": "execute_result"
    }
   ],
   "source": [
    "feature1 = ok2[['user_id','stars']].groupby('user_id').mean()\n",
    "feature1.head()"
   ]
  },
  {
   "cell_type": "code",
   "execution_count": 25,
   "metadata": {},
   "outputs": [
    {
     "data": {
      "text/plain": [
       "(2435662, 13)"
      ]
     },
     "execution_count": 25,
     "metadata": {},
     "output_type": "execute_result"
    }
   ],
   "source": [
    "pred = pd.merge(X_train_spec, feature1, on='user_id', how='left')\n",
    "pred.shape"
   ]
  },
  {
   "cell_type": "code",
   "execution_count": 26,
   "metadata": {},
   "outputs": [
    {
     "data": {
      "text/plain": [
       "(1723512, 9)"
      ]
     },
     "execution_count": 26,
     "metadata": {},
     "output_type": "execute_result"
    }
   ],
   "source": [
    "pred_test = pd.merge(X_test_spec, feature1, on='user_id', how='left')\n",
    "pred_test.shape"
   ]
  },
  {
   "cell_type": "markdown",
   "metadata": {},
   "source": [
    "### Evaluate Model 1"
   ]
  },
  {
   "cell_type": "code",
   "execution_count": 27,
   "metadata": {},
   "outputs": [],
   "source": [
    "train_score = mean_squared_error(y_train_spec, pred['stars'])"
   ]
  },
  {
   "cell_type": "code",
   "execution_count": 28,
   "metadata": {},
   "outputs": [],
   "source": [
    "test_score = mean_squared_error(y_test_spec, pred_test['stars'])"
   ]
  },
  {
   "cell_type": "code",
   "execution_count": 29,
   "metadata": {},
   "outputs": [
    {
     "name": "stdout",
     "output_type": "stream",
     "text": [
      "MSE training score, '2.5', and test score '2.1'.\n"
     ]
    }
   ],
   "source": [
    "print(\"MSE training score, '{}', and test score '{}'.\".format(round(train_score, 2), round(test_score, 2)))"
   ]
  },
  {
   "cell_type": "markdown",
   "metadata": {},
   "source": [
    "## 2. Linear Regression\n",
    "\n",
    "With the features mentioned above in this part, we applied\n",
    "the linear regression to the training dataset. The features\n",
    "are rCount, tlen, tpol, tsub. The label is set to (review_star - (uAvg+bAvg)/2.0) \n",
    "where $y_i$ is review $star_i$ and $\\epsilon_i$ is\n",
    "(uAvg+bAvg)/2.0. With the features and labels, the linear\n",
    "regression is applied by using numpy.linalg.lstsq.\n",
    "Then, the (features·θ+(uAvg+bAvg)/2.0) is applied, which\n",
    "is the equation mentioned above, to do the prediction for\n",
    "those users and businesses seen in training dataset. Otherwise,\n",
    "use (feature·θ+averageRate) for prediction where averageRate\n",
    "is the average rating stars for all training reviews.\n",
    "Furthermore, in this model, we also add a correction to\n",
    "set the prediction value equal to 5.0 if it’s calculated value\n",
    "is larger than 5.0, since the rating stars will never be larger\n",
    "than 5.0."
   ]
  },
  {
   "cell_type": "code",
   "execution_count": 1,
   "metadata": {},
   "outputs": [
    {
     "ename": "NameError",
     "evalue": "name 'X_train_spec' is not defined",
     "output_type": "error",
     "traceback": [
      "\u001b[0;31m---------------------------------------------------------------------------\u001b[0m",
      "\u001b[0;31mNameError\u001b[0m                                 Traceback (most recent call last)",
      "\u001b[0;32m<ipython-input-1-ace707a45012>\u001b[0m in \u001b[0;36m<module>\u001b[0;34m()\u001b[0m\n\u001b[1;32m      1\u001b[0m \u001b[0;31m# Compute features\u001b[0m\u001b[0;34m\u001b[0m\u001b[0;34m\u001b[0m\u001b[0m\n\u001b[1;32m      2\u001b[0m \u001b[0;34m\u001b[0m\u001b[0m\n\u001b[0;32m----> 3\u001b[0;31m \u001b[0mX_train_reg\u001b[0m \u001b[0;34m=\u001b[0m \u001b[0mX_train_spec\u001b[0m\u001b[0;34m[\u001b[0m\u001b[0;34m[\u001b[0m\u001b[0;34m'rCount'\u001b[0m\u001b[0;34m,\u001b[0m \u001b[0;34m'tlen'\u001b[0m\u001b[0;34m,\u001b[0m \u001b[0;34m'tpol'\u001b[0m\u001b[0;34m,\u001b[0m \u001b[0;34m'tsub'\u001b[0m\u001b[0;34m]\u001b[0m\u001b[0;34m]\u001b[0m\u001b[0;34m\u001b[0m\u001b[0m\n\u001b[0m\u001b[1;32m      4\u001b[0m \u001b[0my_train_reg\u001b[0m \u001b[0;34m=\u001b[0m \u001b[0my_train_spec\u001b[0m \u001b[0;34m-\u001b[0m \u001b[0;34m(\u001b[0m\u001b[0mX_train_spec\u001b[0m\u001b[0;34m.\u001b[0m\u001b[0muAvg\u001b[0m \u001b[0;34m+\u001b[0m \u001b[0mX_train_spec\u001b[0m\u001b[0;34m.\u001b[0m\u001b[0mbAvg\u001b[0m\u001b[0;34m)\u001b[0m\u001b[0;34m/\u001b[0m\u001b[0;36m2.0\u001b[0m\u001b[0;34m\u001b[0m\u001b[0m\n",
      "\u001b[0;31mNameError\u001b[0m: name 'X_train_spec' is not defined"
     ]
    }
   ],
   "source": [
    "# Compute features\n",
    "\n",
    "X_train_reg = X_train_spec[['rCount', 'tlen', 'tpol', 'tsub']]\n",
    "y_train_reg = y_train_spec - (X_train_spec.uAvg + X_train_spec.bAvg)/2.0"
   ]
  },
  {
   "cell_type": "code",
   "execution_count": 5,
   "metadata": {},
   "outputs": [],
   "source": [
    "# Compute model\n",
    "\n",
    "#m = np.linalg.lstsq(X_train_reg, y_train_reg)\n",
    "# use scikit-learn instead of numpy"
   ]
  },
  {
   "cell_type": "code",
   "execution_count": null,
   "metadata": {},
   "outputs": [],
   "source": []
  }
 ],
 "metadata": {
  "kernelspec": {
   "display_name": "Python 3",
   "language": "python",
   "name": "python3"
  },
  "language_info": {
   "codemirror_mode": {
    "name": "ipython",
    "version": 3
   },
   "file_extension": ".py",
   "mimetype": "text/x-python",
   "name": "python",
   "nbconvert_exporter": "python",
   "pygments_lexer": "ipython3",
   "version": "3.6.5"
  }
 },
 "nbformat": 4,
 "nbformat_minor": 2
}
