{
 "cells": [
  {
   "cell_type": "markdown",
   "metadata": {},
   "source": [
    "@article{huang2014improving,\n",
    "  title={Improving restaurants by extracting subtopics from yelp reviews},\n",
    "  author={Huang, James and Rogers, Stephanie and Joo, Eunkwang},\n",
    "  journal={iConference 2014 (Social Media Expo)},\n",
    "  year={2014},\n",
    "  publisher={iSchools}\n",
    "}"
   ]
  },
  {
   "cell_type": "markdown",
   "metadata": {},
   "source": [
    "In this paper Latent Dirichlet Allocation (LDA) algorithm is used to provide meaningful insights to restaurants about what customers care about in order to increase their Yelp rating."
   ]
  },
  {
   "cell_type": "markdown",
   "metadata": {},
   "source": [
    "@article{fan2014predicting, title={Predicting a business star in yelp from its reviews text alone}, author={Fan, Mingming and Khademi, Maryam}, journal={arXiv preprint arXiv:1401.0864},year={2014}\n",
    "}"
   ]
  },
  {
   "cell_type": "markdown",
   "metadata": {},
   "source": [
    "This paper predicts a business rating on Yelp based on user-generated reviews texts alone thus removing subjectivity of user reviews."
   ]
  },
  {
   "cell_type": "markdown",
   "metadata": {},
   "source": [
    "@article{potamias2012warm, title={The warm-start bias of yelp ratings}, author={Potamias, Michalis}, journal={arXiv preprint arXiv:1202.5713}, year={2012}\n",
    "}"
   ]
  },
  {
   "cell_type": "markdown",
   "metadata": {},
   "source": [
    "This article points to the importance of identifying and removing biases from Yelp reviews."
   ]
  },
  {
   "cell_type": "markdown",
   "metadata": {},
   "source": [
    "@inproceedings{zhang2015incorporating, title={Incorporating phrase-level sentiment analysis on textual reviews for personalized recommendation}, author={Zhang, Yongfeng}, booktitle={Proceedings of the eighth ACM international conference on web search and data mining}, pages={435--440}, year={2015}, organization={ACM}}"
   ]
  },
  {
   "cell_type": "markdown",
   "metadata": {},
   "source": [
    "This research highlights the importance of incorporating textual reviews for recommendation through phrase-level sentiment analysis, and further investigate the role that the texts play in various important recommendation tasks."
   ]
  },
  {
   "cell_type": "markdown",
   "metadata": {},
   "source": [
    "@article{asghar2016yelp, title={Yelp Dataset Challenge: Review Rating Prediction}, author={Asghar, Nabiha}, journal={arXiv preprint arXiv:1605.05362}, year={2016}}"
   ]
  },
  {
   "cell_type": "markdown",
   "metadata": {},
   "source": [
    "The problem of predicting a user's star rating for a product, given the user's text review for that product, is called Review Rating Prediction. This paper evaluates different models for predicting the ratings from reviews."
   ]
  },
  {
   "cell_type": "code",
   "execution_count": null,
   "metadata": {},
   "outputs": [],
   "source": []
  }
 ],
 "metadata": {
  "kernelspec": {
   "display_name": "Python 3",
   "language": "python",
   "name": "python3"
  },
  "language_info": {
   "codemirror_mode": {
    "name": "ipython",
    "version": 3
   },
   "file_extension": ".py",
   "mimetype": "text/x-python",
   "name": "python",
   "nbconvert_exporter": "python",
   "pygments_lexer": "ipython3",
   "version": "3.6.4"
  }
 },
 "nbformat": 4,
 "nbformat_minor": 2
}
