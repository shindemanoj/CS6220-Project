{
 "cells": [
  {
   "cell_type": "markdown",
   "metadata": {},
   "source": [
    "# 5.3 Random Forest Regression\n",
    "\n",
    "In the Random Forest Regression, we changed the pa- rameters n estimators and max depth to train the training dataset. With the model, we can get the MSE for the val- idation dataset. As the result in table 3, the larger the n estimators and the the max depth, the better the perfor- mance. In the experiments we did, the minimum MSE for the validation dataset is 0.694501549823 with n estimators\n",
    "as 200 and max depth as 12. Then we choose this model for\n",
    "the test dataset. The MSE for the test dataset is 0.639872918805.\n",
    "\n",
    "| n_estimators | max_depth | MSE (validation) |\n",
    "|--------------|:---------:|:-----------------|\n",
    "|100           | 4         |                  |\n",
    "|100           | 8         |                  |\n",
    "|200           | 8         |                  |\n",
    "|300           | 8         |                  |\n",
    "|200           | 12        |                  |"
   ]
  },
  {
   "cell_type": "code",
   "execution_count": 1,
   "metadata": {},
   "outputs": [],
   "source": [
    "import gc\n",
    "\n",
    "import pandas as pd\n",
    "from sklearn.ensemble import RandomForestRegressor\n",
    "from sklearn.metrics import mean_squared_error"
   ]
  },
  {
   "cell_type": "code",
   "execution_count": 2,
   "metadata": {},
   "outputs": [],
   "source": [
    "X_train = pd.read_parquet(\"X_train_spec.parquet\", engine=\"pyarrow\")\n",
    "y_train = pd.read_parquet(\"y_train_spec.parquet\", engine=\"pyarrow\")"
   ]
  },
  {
   "cell_type": "code",
   "execution_count": 3,
   "metadata": {},
   "outputs": [],
   "source": [
    "X_train = X_train[[\"useful\",\"funny\", \"cool\", \"uRate\", \"bRate\", \n",
    "                   \"rCount\", \"tlen\", \"tpol\", \"tsub\", \"uAvg\", \"bAvg\"]]"
   ]
  },
  {
   "cell_type": "code",
   "execution_count": 4,
   "metadata": {},
   "outputs": [],
   "source": [
    "X_test = pd.read_parquet(\"X_test_spec.parquet\", engine=\"pyarrow\")\n",
    "y_test = pd.read_parquet(\"y_test_spec.parquet\", engine=\"pyarrow\")"
   ]
  },
  {
   "cell_type": "code",
   "execution_count": 5,
   "metadata": {},
   "outputs": [],
   "source": [
    "X_test = X_test[[\"useful\",\"funny\", \"cool\", \"uRate\", \"bRate\", \n",
    "                   \"rCount\", \"tlen\", \"tpol\", \"tsub\", \"uAvg\", \"bAvg\"]]"
   ]
  },
  {
   "cell_type": "code",
   "execution_count": 6,
   "metadata": {},
   "outputs": [],
   "source": [
    "params = [(100, 4), (100, 8), (200, 8), (300, 8), (200, 12)]"
   ]
  },
  {
   "cell_type": "code",
   "execution_count": 7,
   "metadata": {},
   "outputs": [],
   "source": [
    "def score_model(params, X_train, y_train, X_test, y_test):\n",
    "    \"Use a variety of parameters to generate scores\"\n",
    "    print(\"Started analysis\")\n",
    "    for n_estimator, max_depth in params:\n",
    "        regr = RandomForestRegressor(n_estimators=n_estimator, max_depth=max_depth)\n",
    "        regr.fit(X_train, y_train)\n",
    "        pred = regr.predict(X_test)\n",
    "        \n",
    "        score = mean_squared_error(y_test, pred)\n",
    "        print(\"MSE score: {}, using {} n_estimators and {} max depth\".\\\n",
    "              format(round(score,2), n_estimator, max_depth))\n",
    "        \n",
    "        gc.collect()\n",
    "        \n",
    "    print(\"Finished analysis\")\n",
    "        \n"
   ]
  },
  {
   "cell_type": "code",
   "execution_count": 15,
   "metadata": {},
   "outputs": [
    {
     "name": "stdout",
     "output_type": "stream",
     "text": [
      "Started analysis\n",
      "MSE score: 1.89, using 100 n_estimators and 4 max depth\n",
      "MSE score: 1.89, using 100 n_estimators and 8 max depth\n",
      "MSE score: 1.89, using 200 n_estimators and 8 max depth\n",
      "MSE score: 1.89, using 300 n_estimators and 8 max depth\n",
      "MSE score: 1.89, using 200 n_estimators and 12 max depth\n",
      "Finished analysis\n"
     ]
    }
   ],
   "source": [
    "score_model(params, X_train, y_train.values.ravel(), X_test, y_test.values.ravel())"
   ]
  },
  {
   "cell_type": "code",
   "execution_count": null,
   "metadata": {},
   "outputs": [],
   "source": []
  },
  {
   "cell_type": "code",
   "execution_count": null,
   "metadata": {},
   "outputs": [],
   "source": []
  }
 ],
 "metadata": {
  "kernelspec": {
   "display_name": "Python 3",
   "language": "python",
   "name": "python3"
  },
  "language_info": {
   "codemirror_mode": {
    "name": "ipython",
    "version": 3
   },
   "file_extension": ".py",
   "mimetype": "text/x-python",
   "name": "python",
   "nbconvert_exporter": "python",
   "pygments_lexer": "ipython3",
   "version": "3.6.5"
  }
 },
 "nbformat": 4,
 "nbformat_minor": 2
}
